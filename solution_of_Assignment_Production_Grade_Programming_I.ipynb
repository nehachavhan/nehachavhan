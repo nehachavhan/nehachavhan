{
  "nbformat": 4,
  "nbformat_minor": 0,
  "metadata": {
    "kernelspec": {
      "display_name": "Python 3",
      "language": "python",
      "name": "python3"
    },
    "language_info": {
      "codemirror_mode": {
        "name": "ipython",
        "version": 3
      },
      "file_extension": ".py",
      "mimetype": "text/x-python",
      "name": "python",
      "nbconvert_exporter": "python",
      "pygments_lexer": "ipython3",
      "version": "3.7.4"
    },
    "colab": {
      "name": "solution of Assignment  - Production Grade Programming I.ipynb",
      "provenance": [],
      "collapsed_sections": [],
      "include_colab_link": true
    }
  },
  "cells": [
    {
      "cell_type": "markdown",
      "metadata": {
        "id": "view-in-github",
        "colab_type": "text"
      },
      "source": [
        "<a href=\"https://colab.research.google.com/github/nehachavhan/nehachavhan/blob/main/solution_of_Assignment_Production_Grade_Programming_I.ipynb\" target=\"_parent\"><img src=\"https://colab.research.google.com/assets/colab-badge.svg\" alt=\"Open In Colab\"/></a>"
      ]
    },
    {
      "cell_type": "markdown",
      "metadata": {
        "id": "8WbUJEVzs8Bx"
      },
      "source": [
        "## <u>While doing this assignment only use those concepts which have been taught till now</u>"
      ]
    },
    {
      "cell_type": "markdown",
      "metadata": {
        "id": "77zLnpaNvNSp"
      },
      "source": [
        "# <u> Problem 1</u>\n",
        "\n",
        "### Create a class <code>Cylinder</code> which takes two attributes <code>radius</code> and <code>height</code>.\n",
        "\n",
        "### Create the following methods in this class:\n",
        "\n",
        "* ### method <code>volume()</code> which calculates the volume of the cyinder which is defined as $V  = \\pi r^2 h$\n",
        "\n",
        "* ### method <code>surface_area()</code> which calculates the area of the cyinder which is defined as $S  = 2\\pi r h$. Assume this is an open cylinder\n"
      ]
    },
    {
      "cell_type": "code",
      "metadata": {
        "id": "-cWkCZ5OzX0G"
      },
      "source": [
        "# Write your code below. Take pi as 3.14\n",
        "class Cylinder:\n",
        "  def __init__(self,radius , height):\n",
        "    self.radius = radius\n",
        "    self.height = height\n",
        "\n",
        "  def volume(self):\n",
        "    return 3.14 * ( (self.radius)**2 ) * (self.height)\n",
        "\n",
        "  def surface_area(self):\n",
        "     return 2 * 3.14 * (self.radius) * (self.height)\n",
        "\n",
        "\n",
        "\n",
        "\n",
        "\n",
        "\n",
        "\n",
        "\n",
        "\n",
        "\n",
        "\n",
        "\n",
        "\n",
        "\n",
        "  "
      ],
      "execution_count": null,
      "outputs": []
    },
    {
      "cell_type": "code",
      "metadata": {
        "id": "tgS3mhN-18b_",
        "outputId": "63d50fc6-aa60-4266-c118-8407ad16fac1",
        "colab": {
          "base_uri": "https://localhost:8080/"
        }
      },
      "source": [
        "# Check for sample inputs\n",
        "sample_cylinder = Cylinder(2,4)\n",
        "sample_cylinder.surface_area()\n",
        "\n",
        "\n",
        "\n"
      ],
      "execution_count": null,
      "outputs": [
        {
          "output_type": "execute_result",
          "data": {
            "text/plain": [
              "50.24"
            ]
          },
          "metadata": {},
          "execution_count": 14
        }
      ]
    },
    {
      "cell_type": "markdown",
      "metadata": {
        "id": "KjPWYK0Rs8By"
      },
      "source": [
        "## <u>Problem 2</u>\n",
        "\n",
        "### You started your own money wallet where your customers can create their accounts and they can either deposit or withdraw money from this wallet.\n",
        "\n",
        "### Write a Python class <code>BankAccount</code> which takes the balance as an attribute. You can initialize the balance with 0 because any new account will have 0 rupees in their wallet. Next write two methods for your class :\n",
        "\n",
        "* #### <code>withdraw()</code> method which takes the amount to be withdrawn as an argument and returns the balance after the withdrawal\n",
        "\n",
        "* #### <code>deposit()</code> method which takes the amount to be deposited as an argument and returns the balance after the deposit.\n",
        "\n",
        "### Keep in mind that if the balance to be withdrawn exceeds the current balance, it should display a message that \"Not enough balance in your account\"\n"
      ]
    },
    {
      "cell_type": "code",
      "metadata": {
        "id": "RxVZTrenzfHC"
      },
      "source": [
        "# Write your BankAccount class below \n",
        "\n",
        "class BankAccount:\n",
        "  def __init__(self,balance = 0):\n",
        "    self.balance = balance\n",
        "\n",
        "  def deposite(self,amount):\n",
        "    self.balance += amount\n",
        "    return self.balance\n",
        "\n",
        "  def withdraw(self,amount):\n",
        "    if self.balance < amount :\n",
        "      print('Not sufficieant balance')\n",
        "    else:\n",
        "     self.balance -= amount\n",
        "     return self.balance                                                                                 \n",
        "         \n",
        "\n"
      ],
      "execution_count": null,
      "outputs": []
    },
    {
      "cell_type": "code",
      "metadata": {
        "id": "N1Yhpkiws8B3"
      },
      "source": [
        "# Create two instances of this class for two customers\n",
        "neha_account = BankAccount()\n",
        "john_account = BankAccount(balance=6000)\n"
      ],
      "execution_count": null,
      "outputs": []
    },
    {
      "cell_type": "markdown",
      "metadata": {
        "id": "mSTxPcO3fWeX"
      },
      "source": [
        "### Next add some amount and withdraw some another amount for both the customers."
      ]
    },
    {
      "cell_type": "code",
      "metadata": {
        "id": "KpMdlB5Fs8B8",
        "outputId": "889bcc70-5ff1-4c9b-bc13-aa6873f115e0",
        "colab": {
          "base_uri": "https://localhost:8080/"
        }
      },
      "source": [
        "# Deposit some amount and withdrawing some amount from the two accounts and check if your method works fine\n",
        "#deposite money in neha account\n",
        "neha_account.deposite(5000)\n"
      ],
      "execution_count": null,
      "outputs": [
        {
          "output_type": "execute_result",
          "data": {
            "text/plain": [
              "5000"
            ]
          },
          "metadata": {},
          "execution_count": 58
        }
      ]
    },
    {
      "cell_type": "code",
      "source": [
        "neha_account.balance"
      ],
      "metadata": {
        "id": "5oFAt5eL503I",
        "outputId": "0ae84941-298f-4ae4-b578-06f9b440888d",
        "colab": {
          "base_uri": "https://localhost:8080/"
        }
      },
      "execution_count": null,
      "outputs": [
        {
          "output_type": "execute_result",
          "data": {
            "text/plain": [
              "5000"
            ]
          },
          "metadata": {},
          "execution_count": 53
        }
      ]
    },
    {
      "cell_type": "code",
      "source": [
        "#withdraw money from neha account\n",
        "neha_account.withdraw(2500)                   \n"
      ],
      "metadata": {
        "id": "3RdyzOds5Sqc",
        "outputId": "49919a1d-4f7c-499f-e6d0-67f3f5027366",
        "colab": {
          "base_uri": "https://localhost:8080/"
        }
      },
      "execution_count": null,
      "outputs": [
        {
          "output_type": "execute_result",
          "data": {
            "text/plain": [
              "2500"
            ]
          },
          "metadata": {},
          "execution_count": 59
        }
      ]
    },
    {
      "cell_type": "code",
      "source": [
        "# Deposit some amount and withdrawing some amount from the john's account\n",
        "john_account.deposite(2000)"
      ],
      "metadata": {
        "id": "J6TgbQKF5SyS",
        "outputId": "bab9fb7a-8639-42ca-acc4-1bf4e683a140",
        "colab": {
          "base_uri": "https://localhost:8080/"
        }
      },
      "execution_count": null,
      "outputs": [
        {
          "output_type": "execute_result",
          "data": {
            "text/plain": [
              "8000"
            ]
          },
          "metadata": {},
          "execution_count": 61
        }
      ]
    },
    {
      "cell_type": "code",
      "source": [
        "john_account.withdraw(5000)"
      ],
      "metadata": {
        "id": "QRg8BmJP5TLy",
        "outputId": "3a05d1cf-ab05-4622-9314-762d712432de",
        "colab": {
          "base_uri": "https://localhost:8080/"
        }
      },
      "execution_count": null,
      "outputs": [
        {
          "output_type": "execute_result",
          "data": {
            "text/plain": [
              "3000"
            ]
          },
          "metadata": {},
          "execution_count": 63
        }
      ]
    },
    {
      "cell_type": "markdown",
      "metadata": {
        "id": "5qd8g8UUs8CM"
      },
      "source": [
        "## <u>Problem 3 </u>\n",
        "\n",
        "### Create a class <code>Time </code> which takes two inputs hours and minutes to instantiate.\n",
        "*  #### Construct a method <code>DisplayTime()</code> which displays the time in AM/PM formats. For example if the input is 14 hours and 45 mins, then this method will print \"The time is 2:45 PM\". If the inputted hours exceeds 23 then print the message \"The input hours should be less than 24\" and if the inputted minutes exceeds 59 then print the message \"The input minutes should be less than 60.\" Also if the input is 12 hours 30 minutes, then the displayed time would be 12:30 PM\n",
        "* #### Construct a method <code>DisplayRatio()</code> which should display the ratio of minutes to hours. For example, (8 hours and  16 mins) should display 2. Use <code>try</code>, <code>except</code> block to account for ZeroDivisionError."
      ]
    },
    {
      "cell_type": "code",
      "metadata": {
        "id": "FBJy9Sq_s8CN"
      },
      "source": [
        "class Time:\n",
        "  def __init__(self,hrs,mins):\n",
        "    self.hrs = hrs\n",
        "    self.mins = mins\n",
        "\n",
        "  def displayTime(self):\n",
        "    if (self.hrs < 12) and (self.mins < 60):\n",
        "      time_to_display = str (self . hrs) +\":\" + str(self.mins) + \" AM\"\n",
        "      print(f\"The time is {time_to_display}\")\n",
        "    elif (self.hrs ==12) and (self . mins < 60 ):\n",
        "      time_to_display = str (self . hrs ) + \":\" + str(self.mins) + \" PM\"\n",
        "      print(f\"The time is {time_to_display}\")\n",
        "    else:\n",
        "      time_to_display = str(self . hrs - 12) + \":\" + str(self.mins) + \" PM\"\n",
        "      print(f\"The time is {time_to_display}\")\n",
        "\n",
        "\n",
        "  def displayRatio(self):\n",
        "    try:\n",
        "      print(self.mins / self.hrs)\n",
        "    except:\n",
        "      print('The argument \"hrs\" should not be zero.')         \n",
        "                               \n",
        "  "
      ],
      "execution_count": null,
      "outputs": []
    },
    {
      "cell_type": "code",
      "metadata": {
        "id": "zywXa51d6Eev",
        "outputId": "f7d77fd3-38a7-4998-e512-80fd65069d75",
        "colab": {
          "base_uri": "https://localhost:8080/"
        }
      },
      "source": [
        "# Check for few sample inputs of hours and mins\n",
        "hour_min_list = [(23,45), (34,50), (12,34), (14,67),(19,20), (2,15), (0, 10)]\n",
        "\n",
        "# Using a for loop display the corresponding 12 hour time format for the above hour_min_list\n",
        "for hour ,min in hour_min_list:\n",
        "  A= Time(hour,min)\n",
        "  A.displayTime()\n",
        "\n",
        "\n",
        "\n",
        "\n",
        "\n",
        "\n"
      ],
      "execution_count": null,
      "outputs": [
        {
          "output_type": "stream",
          "name": "stdout",
          "text": [
            "The time is 11:45 PM\n",
            "The time is 22:50 PM\n",
            "The time is 12:34 PM\n",
            "The time is 2:67 PM\n",
            "The time is 7:20 PM\n",
            "The time is 2:15 AM\n",
            "The time is 0:10 AM\n"
          ]
        }
      ]
    },
    {
      "cell_type": "code",
      "metadata": {
        "id": "mgcu1_SAjAqF",
        "outputId": "10f06578-904b-46e7-bb9b-ee35a1b10f6e",
        "colab": {
          "base_uri": "https://localhost:8080/"
        }
      },
      "source": [
        "\n",
        "# Also display the corresponding ratios for the above list\n",
        "for hour , min in hour_min_list:\n",
        "  A = Time(hour,min)\n",
        "  A.displayRatio()"
      ],
      "execution_count": null,
      "outputs": [
        {
          "output_type": "stream",
          "name": "stdout",
          "text": [
            "1.9565217391304348\n",
            "1.4705882352941178\n",
            "2.8333333333333335\n",
            "4.785714285714286\n",
            "1.0526315789473684\n",
            "7.5\n",
            "The argument \"hrs\" should not be zero.\n"
          ]
        }
      ]
    },
    {
      "cell_type": "code",
      "source": [
        ""
      ],
      "metadata": {
        "id": "xj8jZsucalrr"
      },
      "execution_count": null,
      "outputs": []
    }
  ]
}